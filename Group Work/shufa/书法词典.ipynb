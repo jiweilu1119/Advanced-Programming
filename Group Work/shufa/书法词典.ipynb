{
 "cells": [
  {
   "cell_type": "code",
   "execution_count": 1,
   "metadata": {},
   "outputs": [],
   "source": [
    "from selenium import webdriver\n",
    "# encoding=utf8 \n",
    "import sys\n",
    "reload(sys) \n",
    "sys.setdefaultencoding('utf8')\n",
    "#ASCII 编码无法对 unicode 的中文进行编码,因此就报错了。"
   ]
  },
  {
   "cell_type": "code",
   "execution_count": 2,
   "metadata": {},
   "outputs": [],
   "source": [
    "from selenium.webdriver.common.by import By\n",
    "from selenium.webdriver.support.ui import WebDriverWait"
   ]
  },
  {
   "cell_type": "code",
   "execution_count": 3,
   "metadata": {},
   "outputs": [],
   "source": [
    "from selenium.webdriver.support import expected_conditions as EC\n",
    "from stanfordcorenlp import StanfordCoreNLP\n",
    "from pyquery import PyQuery as pq\n",
    "import requests"
   ]
  },
  {
   "cell_type": "code",
   "execution_count": 5,
   "metadata": {},
   "outputs": [],
   "source": [
    "from selenium.webdriver.common.keys import Keys\n",
    "from nltk.corpus import PlaintextCorpusReader\n",
    "from nltk import word_tokenize\n"
   ]
  },
  {
   "cell_type": "code",
   "execution_count": 6,
   "metadata": {},
   "outputs": [
    {
     "data": {
      "text/plain": [
       "['cidian.txt']"
      ]
     },
     "execution_count": 6,
     "metadata": {},
     "output_type": "execute_result"
    }
   ],
   "source": [
    "corpus_root='/Users/jiweilu/Desktop/'\n",
    "files=PlaintextCorpusReader(corpus_root,'cidian.txt')\n",
    "files.fileids()#找到辞典文件"
   ]
  },
  {
   "cell_type": "code",
   "execution_count": 7,
   "metadata": {},
   "outputs": [
    {
     "data": {
      "text/plain": [
       "[u'\\u4e00', u'\\u4e8c', u'\\u4e09', u'\\u56db', u'\\u4e94']"
      ]
     },
     "execution_count": 7,
     "metadata": {},
     "output_type": "execute_result"
    }
   ],
   "source": [
    "words=word_tokenize(files.raw(fileids=files.fileids()))\n",
    "words\n",
    "#打印出书法辞典的内容"
   ]
  },
  {
   "cell_type": "code",
   "execution_count": 9,
   "metadata": {},
   "outputs": [],
   "source": [
    "#遍历每个字，并依次对该字进行检索\n",
    "for word in words:\n",
    "    # 创建浏览器驱动对象\n",
    "    option = webdriver.ChromeOptions()\n",
    "    option.add_argument(\"headless\")#chrome浏览器无界面运行\n",
    "    driver = webdriver.Chrome(chrome_options=option)\n",
    "    driver.get('http://shufa.guoxuedashi.com/')\n",
    "    \n",
    "    # 显式等待，设置timeout\n",
    "    wait = WebDriverWait(driver, 9)\n",
    "    input = wait.until(\n",
    "    EC.presence_of_element_located(\n",
    "        (By.CSS_SELECTOR, '#sokeyshufa')))\n",
    "    #配合该类的until()和until_not()方法，就能够根据判断条件而进行灵活地等待了。 \n",
    "    #程序每隔9秒看一眼，如果条件成立了，则执行下一步，否则继续等待，直到超过设置的最长时间抛出TimeoutException。\n",
    "    \n",
    "    \n",
    "    driver.find_element_by_id(\"sokeyshufa\").send_keys(word)#发送当前遍历的书法字\n",
    "    driver.find_element_by_xpath(\"//div[@id='oneCon8']//input[@name='submit']\").click()#模拟点击\n",
    "#之前之所以用webdriver是因为需要模拟点击事件。之后都采用request\n",
    "\n",
    "    path=driver.current_url#获取当前页的url（即书法字的页面）\n",
    "    r= requests.get(path)\n",
    "    html = r.content\n",
    "    doc = pq(html)#文件初始化\n",
    "    doc('.table2')#找到class为table2的元素\n",
    "    #len(doc('.table2'))\n",
    "    for doc2 in doc('.table2'):\n",
    "        table2_0 = doc2\n",
    "        pq_table2_0 = pq(table2_0)\n",
    "        pq_table2_0('a')#找到包含超链接的元素\n",
    "        #len(pq_table2_0('a'))\n",
    "        for pq_table20 in pq_table2_0('a'):\n",
    "            pq_a = pq(pq_table20)\n",
    "            pq_a('img').attr('src')\n",
    "            url=pq_a('img').attr('src')#找到当前图片的url\n",
    "            filename = '/Users/jiweilu/Desktop/pic.txt'\n",
    "            with open(filename,'a') as f: # 'a'表示append,即在原来文件内容后继续写数据（不清楚原有数据）\n",
    "                f.write(\"\\n\"+word+\":\\n\"+url)\n",
    "    "
   ]
  },
  {
   "cell_type": "code",
   "execution_count": 10,
   "metadata": {},
   "outputs": [],
   "source": [
    "# 关闭浏览器驱动\n",
    "driver.close()"
   ]
  },
  {
   "cell_type": "code",
   "execution_count": null,
   "metadata": {},
   "outputs": [],
   "source": []
  }
 ],
 "metadata": {
  "kernelspec": {
   "display_name": "Python 2",
   "language": "python",
   "name": "python2"
  },
  "language_info": {
   "codemirror_mode": {
    "name": "ipython",
    "version": 2
   },
   "file_extension": ".py",
   "mimetype": "text/x-python",
   "name": "python",
   "nbconvert_exporter": "python",
   "pygments_lexer": "ipython2",
   "version": "2.7.15"
  }
 },
 "nbformat": 4,
 "nbformat_minor": 2
}
