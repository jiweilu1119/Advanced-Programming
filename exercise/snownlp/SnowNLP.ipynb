{
 "cells": [
  {
   "cell_type": "code",
   "execution_count": 1,
   "metadata": {},
   "outputs": [],
   "source": [
    "\n",
    "from snownlp import SnowNLP\n"
   ]
  },
  {
   "cell_type": "code",
   "execution_count": 2,
   "metadata": {},
   "outputs": [],
   "source": [
    "s = SnowNLP(u'这个东西真心很赞')\n"
   ]
  },
  {
   "cell_type": "code",
   "execution_count": 3,
   "metadata": {},
   "outputs": [
    {
     "data": {
      "text/plain": [
       "[u'\\u8fd9\\u4e2a', u'\\u4e1c\\u897f', u'\\u771f\\u5fc3', u'\\u5f88', u'\\u8d5e']"
      ]
     },
     "execution_count": 3,
     "metadata": {},
     "output_type": "execute_result"
    }
   ],
   "source": [
    "s.words         # [u'这个', u'东西', u'真心',\n",
    "                   #  u'很', u'赞']\n"
   ]
  },
  {
   "cell_type": "code",
   "execution_count": 4,
   "metadata": {},
   "outputs": [
    {
     "name": "stdout",
     "output_type": "stream",
     "text": [
      "这个 东西 真心 很 赞\n"
     ]
    }
   ],
   "source": [
    "print u'\\u8fd9\\u4e2a', u'\\u4e1c\\u897f', u'\\u771f\\u5fc3', u'\\u5f88', u'\\u8d5e'"
   ]
  },
  {
   "cell_type": "code",
   "execution_count": 5,
   "metadata": {},
   "outputs": [
    {
     "data": {
      "text/plain": [
       "[(u'\\u8fd9\\u4e2a', u'r'),\n",
       " (u'\\u4e1c\\u897f', u'n'),\n",
       " (u'\\u771f\\u5fc3', u'd'),\n",
       " (u'\\u5f88', u'd'),\n",
       " (u'\\u8d5e', u'Vg')]"
      ]
     },
     "execution_count": 5,
     "metadata": {},
     "output_type": "execute_result"
    }
   ],
   "source": [
    "s.tags          # [(u'这个', u'r'), (u'东西', u'n'),\n",
    "                #  (u'真心', u'd'), (u'很', u'd'),\n",
    "                #  (u'赞', u'Vg')]"
   ]
  },
  {
   "cell_type": "code",
   "execution_count": 6,
   "metadata": {},
   "outputs": [
    {
     "data": {
      "text/plain": [
       "0.9767675999295893"
      ]
     },
     "execution_count": 6,
     "metadata": {},
     "output_type": "execute_result"
    }
   ],
   "source": [
    "s.sentiments    # 0.9769663402895832 positive的概率,情感系数"
   ]
  },
  {
   "cell_type": "code",
   "execution_count": 7,
   "metadata": {},
   "outputs": [],
   "source": [
    "text = u'''\n",
    "自然语言处理是计算机科学领域与人工智能领域中的一个重要方向。\n",
    "它研究能实现人与计算机之间用自然语言进行有效通信的各种理论和方法。\n",
    "自然语言处理是一门融语言学、计算机科学、数学于一体的科学。\n",
    "因此，这一领域的研究将涉及自然语言，即人们日常使用的语言，\n",
    "所以它与语言学的研究有着密切的联系，但又有重要的区别。\n",
    "自然语言处理并不是一般地研究自然语言，\n",
    "而在于研制能有效地实现自然语言通信的计算机系统，\n",
    "特别是其中的软件系统。因而它是计算机科学的一部分。\n",
    "'''"
   ]
  },
  {
   "cell_type": "code",
   "execution_count": 8,
   "metadata": {},
   "outputs": [],
   "source": [
    "s = SnowNLP(text)"
   ]
  },
  {
   "cell_type": "code",
   "execution_count": 9,
   "metadata": {},
   "outputs": [
    {
     "data": {
      "text/plain": [
       "[u'\\u8bed\\u8a00', u'\\u81ea\\u7136', u'\\u8ba1\\u7b97\\u673a']"
      ]
     },
     "execution_count": 9,
     "metadata": {},
     "output_type": "execute_result"
    }
   ],
   "source": [
    "s.keywords(3)\n",
    "#提取文本关键词"
   ]
  },
  {
   "cell_type": "code",
   "execution_count": 10,
   "metadata": {},
   "outputs": [
    {
     "name": "stdout",
     "output_type": "stream",
     "text": [
      "语言 自然 计算机\n"
     ]
    }
   ],
   "source": [
    "print u'\\u8bed\\u8a00', u'\\u81ea\\u7136', u'\\u8ba1\\u7b97\\u673a'\n"
   ]
  },
  {
   "cell_type": "code",
   "execution_count": 11,
   "metadata": {},
   "outputs": [
    {
     "data": {
      "text/plain": [
       "[u'\\u56e0\\u800c\\u5b83\\u662f\\u8ba1\\u7b97\\u673a\\u79d1\\u5b66\\u7684\\u4e00\\u90e8\\u5206',\n",
       " u'\\u81ea\\u7136\\u8bed\\u8a00\\u5904\\u7406\\u662f\\u8ba1\\u7b97\\u673a\\u79d1\\u5b66\\u9886\\u57df\\u4e0e\\u4eba\\u5de5\\u667a\\u80fd\\u9886\\u57df\\u4e2d\\u7684\\u4e00\\u4e2a\\u91cd\\u8981\\u65b9\\u5411',\n",
       " u'\\u81ea\\u7136\\u8bed\\u8a00\\u5904\\u7406\\u662f\\u4e00\\u95e8\\u878d\\u8bed\\u8a00\\u5b66\\u3001\\u8ba1\\u7b97\\u673a\\u79d1\\u5b66\\u3001\\u6570\\u5b66\\u4e8e\\u4e00\\u4f53\\u7684\\u79d1\\u5b66']"
      ]
     },
     "execution_count": 11,
     "metadata": {},
     "output_type": "execute_result"
    }
   ],
   "source": [
    "#提取文本摘要\n",
    "s.summary(3)"
   ]
  },
  {
   "cell_type": "code",
   "execution_count": 12,
   "metadata": {},
   "outputs": [
    {
     "name": "stdout",
     "output_type": "stream",
     "text": [
      "因而它是计算机科学的一部分\n",
      "自然语言处理是计算机科学领域与人工智能领域中的一个重要方向\n",
      "自然语言处理是一门融语言学、计算机科学、数学于一体的科学\n"
     ]
    }
   ],
   "source": [
    "print u'\\u56e0\\u800c\\u5b83\\u662f\\u8ba1\\u7b97\\u673a\\u79d1\\u5b66\\u7684\\u4e00\\u90e8\\u5206'\n",
    "print u'\\u81ea\\u7136\\u8bed\\u8a00\\u5904\\u7406\\u662f\\u8ba1\\u7b97\\u673a\\u79d1\\u5b66\\u9886\\u57df\\u4e0e\\u4eba\\u5de5\\u667a\\u80fd\\u9886\\u57df\\u4e2d\\u7684\\u4e00\\u4e2a\\u91cd\\u8981\\u65b9\\u5411'\n",
    "print u'\\u81ea\\u7136\\u8bed\\u8a00\\u5904\\u7406\\u662f\\u4e00\\u95e8\\u878d\\u8bed\\u8a00\\u5b66\\u3001\\u8ba1\\u7b97\\u673a\\u79d1\\u5b66\\u3001\\u6570\\u5b66\\u4e8e\\u4e00\\u4f53\\u7684\\u79d1\\u5b66'"
   ]
  },
  {
   "cell_type": "code",
   "execution_count": 13,
   "metadata": {},
   "outputs": [
    {
     "data": {
      "text/plain": [
       "[u'\\u81ea\\u7136\\u8bed\\u8a00\\u5904\\u7406\\u662f\\u8ba1\\u7b97\\u673a\\u79d1\\u5b66\\u9886\\u57df\\u4e0e\\u4eba\\u5de5\\u667a\\u80fd\\u9886\\u57df\\u4e2d\\u7684\\u4e00\\u4e2a\\u91cd\\u8981\\u65b9\\u5411',\n",
       " u'\\u5b83\\u7814\\u7a76\\u80fd\\u5b9e\\u73b0\\u4eba\\u4e0e\\u8ba1\\u7b97\\u673a\\u4e4b\\u95f4\\u7528\\u81ea\\u7136\\u8bed\\u8a00\\u8fdb\\u884c\\u6709\\u6548\\u901a\\u4fe1\\u7684\\u5404\\u79cd\\u7406\\u8bba\\u548c\\u65b9\\u6cd5',\n",
       " u'\\u81ea\\u7136\\u8bed\\u8a00\\u5904\\u7406\\u662f\\u4e00\\u95e8\\u878d\\u8bed\\u8a00\\u5b66\\u3001\\u8ba1\\u7b97\\u673a\\u79d1\\u5b66\\u3001\\u6570\\u5b66\\u4e8e\\u4e00\\u4f53\\u7684\\u79d1\\u5b66',\n",
       " u'\\u56e0\\u6b64',\n",
       " u'\\u8fd9\\u4e00\\u9886\\u57df\\u7684\\u7814\\u7a76\\u5c06\\u6d89\\u53ca\\u81ea\\u7136\\u8bed\\u8a00',\n",
       " u'\\u5373\\u4eba\\u4eec\\u65e5\\u5e38\\u4f7f\\u7528\\u7684\\u8bed\\u8a00',\n",
       " u'\\u6240\\u4ee5\\u5b83\\u4e0e\\u8bed\\u8a00\\u5b66\\u7684\\u7814\\u7a76\\u6709\\u7740\\u5bc6\\u5207\\u7684\\u8054\\u7cfb',\n",
       " u'\\u4f46\\u53c8\\u6709\\u91cd\\u8981\\u7684\\u533a\\u522b',\n",
       " u'\\u81ea\\u7136\\u8bed\\u8a00\\u5904\\u7406\\u5e76\\u4e0d\\u662f\\u4e00\\u822c\\u5730\\u7814\\u7a76\\u81ea\\u7136\\u8bed\\u8a00',\n",
       " u'\\u800c\\u5728\\u4e8e\\u7814\\u5236\\u80fd\\u6709\\u6548\\u5730\\u5b9e\\u73b0\\u81ea\\u7136\\u8bed\\u8a00\\u901a\\u4fe1\\u7684\\u8ba1\\u7b97\\u673a\\u7cfb\\u7edf',\n",
       " u'\\u7279\\u522b\\u662f\\u5176\\u4e2d\\u7684\\u8f6f\\u4ef6\\u7cfb\\u7edf',\n",
       " u'\\u56e0\\u800c\\u5b83\\u662f\\u8ba1\\u7b97\\u673a\\u79d1\\u5b66\\u7684\\u4e00\\u90e8\\u5206']"
      ]
     },
     "execution_count": 13,
     "metadata": {},
     "output_type": "execute_result"
    }
   ],
   "source": [
    "s.sentences\n",
    "#分句"
   ]
  },
  {
   "cell_type": "code",
   "execution_count": 14,
   "metadata": {},
   "outputs": [],
   "source": [
    "s = SnowNLP([[u'这篇', u'文章'],\n",
    "             [u'那篇', u'论文'],\n",
    "             [u'这个']])"
   ]
  },
  {
   "cell_type": "code",
   "execution_count": 15,
   "metadata": {},
   "outputs": [
    {
     "data": {
      "text/plain": [
       "[{u'\\u6587\\u7ae0': 1, u'\\u8fd9\\u7bc7': 1},\n",
       " {u'\\u8bba\\u6587': 1, u'\\u90a3\\u7bc7': 1},\n",
       " {u'\\u8fd9\\u4e2a': 1}]"
      ]
     },
     "execution_count": 15,
     "metadata": {},
     "output_type": "execute_result"
    }
   ],
   "source": [
    "s.tf"
   ]
  },
  {
   "cell_type": "code",
   "execution_count": 18,
   "metadata": {},
   "outputs": [
    {
     "name": "stdout",
     "output_type": "stream",
     "text": [
      "学生们都具备参与在线课堂的工具\n",
      "在课堂上可以表扬在网络上活跃的学生\n",
      "希望能够指导教师将MOOC的经验和资源运用到传统课堂教学中\n",
      "你都能在MOOC上找到对学生有用的内容\n",
      "让学生在课堂之外也能参与到学校中\n",
      "学生\n",
      "课程\n",
      "课堂\n",
      "上\n",
      "MOOC\n"
     ]
    }
   ],
   "source": [
    "# -*- coding: utf-8 -*-\n",
    "from __future__ import print_function\n",
    "from __future__ import unicode_literals\n",
    "\n",
    "text = '''\n",
    "如果你是一位教师，那么不管你的工作单位是高中、大学还是职业培训等教育机构，你都能在MOOC上找到对学生有用的内容。近期许多MOOC实验项目的目标都是建设一个课堂教学支持系统。我们根据研究结果、采访和我们参与的课程整理出以下建议，希望能够指导教师将MOOC的经验和资源运用到传统课堂教学中。\n",
    "1900年挪威特隆赫姆的科学课，图片来自WikiMedia。\n",
    "1．善用电子设备\n",
    "学生们都具备参与在线课堂的工具，而教师也可以利用自己的设备参与线上社交。如果你是一名学生，就把这篇文章转给你的老师吧。让老师看看怎样用智能手机和笔记本电脑记录你的活动，并迅速回复评论；看看你用哪些手机应用查看地图、搜索信息和购物；展示你的微博、人人和网盘，还有其他人留下的评论。最后，告诉老师，如果他们要开在线课程，并且需要学生助手，别忘了叫上你。\n",
    "2．让课堂更广阔\n",
    "MOOC的成功证明，相比课堂教学，许多学生更喜欢在线学习。随着智能手机、平板电脑和笔记本电脑在学生族中的流行，学生们有了与朋友、家人和老师交流的新方式。显然，在头脑清醒、精神集中的时候，看课程视频、做练习和参与课堂讨论的效率都更高。在MOOC，这意味着一个印度学生和一个新汉普郡的学生能够达到同一水平。因此在传统课堂中，我们也要让那些在足球训练场上、在滑雪度假村和在家养病的学生能够和坐在课时第一排的学生学到同样多的东西。在线工具能够让课堂不再受限于校园，学生们也能够获得更加美好而难忘的学习体验。\n",
    "3．参与是成功之母\n",
    "MOOC研究显示，成功的学生都会充分利用所有的在线资源，例如视频、测试、课堂讨论和由其他学生编写的课程维基百科。对于课堂教学，教师可以建立在线平台，让学生在课堂之外也能参与到学校中。这种交流可以只是发一条微博或者公告，邀请学生对备课提出建议。邀请学生把能够帮助他们复习所学知识的相关文章或图片发布到网上。只要利用这些小诀窍，大家就都能看到谁能跟上课程进度，进而鼓励他们或者提出建议。在课堂上可以表扬在网络上活跃的学生，或者解答学生在网上提出的问题。\n",
    "4．建立网络社区\n",
    "为了活跃课堂，你需要在网络上建一个“据点”，也就是说，需要建立一个网站，为学生提供课件，提醒任务完成时间，并且让学生之间建立联系。假设你是一位老师，并且已经有了自己的注册、评分和考勤系统，那就把这些运用到网络上吧。我们的目标是为学生建立一个平台，让他们能在现有的网络社交活动、与班上同学的交流和课堂作业之间自由转换。\n",
    "W·伊恩-欧伯恩(W. Ian O’Byrne)是纽黑文大学的教育技术助教，他建议利用谷歌协作平台实现这个目的。他指出，学生们都有自己的移动设备，并且希望有一个“够酷而且适合聚会”的地方学习。只把课程都放到网上是不够的，需要精心设计漂亮的页面，并且这个网页要方便学生进行互动。\n",
    "他说：“用好谷歌协作平台的关键仅仅是迈出第一步。把它当作一项工程，认真编辑，打造你自己的在线学习空间，就像每年组织一批学生一样。你可以在每个新学年调整课程内容，不断建设升级，把你的数字学习社区建设得越来越好。”\n",
    "MOOC是学校的一种新形式，欧伯恩建议在起步的时候，先为每门课程的课件加上指针，再利用软件工具，就可以轻松根据学生的学习进度添加课程。他希望，在学生使用在线社区的同时，教师也能发现参与在线社区的方式。\n",
    "5．从线上到线下\n",
    "MOOC的一个缺陷就是无法组建高效的学习小组，而教师在这方面可以大有作为。当学生们看到其他同学更新了课程内容，他们就知道谁掌握了所学的知识，从而邀请这些同学合作完成任务，或向他们请教。我经常向教师们介绍这个例子：我在Google+圈子里发了一条信息，例如“明天我们会讨论矛盾冲突在吸引读者注意力方面的作用。今晚，在你回家的路上，拍一张照片或一段录像。用文字介绍你的见闻，以证明这个观点，并邀请其他同学参与讨论。”我收到的作业包括交通堵塞，猫狗对峙，被泡在水里的花园以及足球训练中的射门。第二天，学生们就可以归纳整理前一天晚上在网络上收集到的评论了。\n",
    "6．用好你的相机\n",
    "随着智能手机和平板电脑的普及，相机也变得无处不在，而且分享照片也越来越简单。MOOC的明星教授说，把45分钟的讲座变成10分钟一段的视频让他们被迫“升级课程”。不是每个老师都能通过这种方式吸引一批学生，但是他们可以参考这个经验，为课堂制作自己的视频，例如实地考察录像。让整个班都出去跑一趟可能不可行，但利用视频和照片，可以把考察点“带”到课室中来。利用智能手机耳机上配备的话筒，还可以为视频配上讲解，从而高效地用多个视频介绍完一个知识点。\n",
    "将MOOC应用到传统课堂教学\n",
    "随着大规模网络公开课的发展，教师可以考虑把在线教育的方法应用到自己的课堂教学中。MOOC的课程制作涉及比较复杂的技术，但使用这些课程几乎不费吹灰之力，而且成本也远远不及课程制作。没有加入edX或Coursera的大部分学校可以进行更多自创内容的尝试，就像自出版一样，这也是许多cMOOC的尝试。教师也可以向自己的目标努力。通过打开课堂，建立网络社区和制作教学视频，可以让更多的教师和学生享受到MOOC的投入带来的收益。\n",
    "'''\n",
    "\n",
    "\n",
    "from snownlp import normal\n",
    "from snownlp import seg\n",
    "from snownlp.summary import textrank\n",
    "\n",
    "\n",
    "if __name__ == '__main__':\n",
    "    t = normal.zh2hans(text)\n",
    "    sents = normal.get_sentences(t) #分句\n",
    "    doc = []\n",
    "    for sent in sents:\n",
    "        words = seg.seg(sent)  #分词\n",
    "        words = normal.filter_stop(words)\n",
    "        doc.append(words)\n",
    "    rank = textrank.TextRank(doc)\n",
    "    rank.solve()\n",
    "    for index in rank.top_index(5):\n",
    "        print(sents[index])\n",
    "    keyword_rank = textrank.KeywordTextRank(doc) #关键词排序\n",
    "    keyword_rank.solve()\n",
    "    for w in keyword_rank.top_index(5):#打印关键词\n",
    "        print(w)"
   ]
  },
  {
   "cell_type": "code",
   "execution_count": null,
   "metadata": {},
   "outputs": [],
   "source": []
  }
 ],
 "metadata": {
  "kernelspec": {
   "display_name": "Python 2",
   "language": "python",
   "name": "python2"
  },
  "language_info": {
   "codemirror_mode": {
    "name": "ipython",
    "version": 2
   },
   "file_extension": ".py",
   "mimetype": "text/x-python",
   "name": "python",
   "nbconvert_exporter": "python",
   "pygments_lexer": "ipython2",
   "version": "2.7.15"
  }
 },
 "nbformat": 4,
 "nbformat_minor": 2
}
