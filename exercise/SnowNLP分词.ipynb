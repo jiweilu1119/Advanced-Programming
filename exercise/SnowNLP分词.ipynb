{
 "cells": [
  {
   "cell_type": "code",
   "execution_count": 1,
   "metadata": {},
   "outputs": [],
   "source": [
    "from snownlp import SnowNLP"
   ]
  },
  {
   "cell_type": "code",
   "execution_count": 7,
   "metadata": {},
   "outputs": [],
   "source": [
    "s = SnowNLP(u'这个东西真心很赞')\n"
   ]
  },
  {
   "cell_type": "code",
   "execution_count": 8,
   "metadata": {},
   "outputs": [
    {
     "data": {
      "text/plain": [
       "[u'\\u8fd9\\u4e2a', u'\\u4e1c\\u897f', u'\\u771f\\u5fc3', u'\\u5f88', u'\\u8d5e']"
      ]
     },
     "execution_count": 8,
     "metadata": {},
     "output_type": "execute_result"
    }
   ],
   "source": [
    "s.words         # [u'这个', u'东西', u'真心',\n",
    "                   #  u'很', u'赞']\n"
   ]
  },
  {
   "cell_type": "code",
   "execution_count": 10,
   "metadata": {},
   "outputs": [
    {
     "name": "stdout",
     "output_type": "stream",
     "text": [
      "这个 东西 真心 很 赞\n"
     ]
    }
   ],
   "source": [
    "print u'\\u8fd9\\u4e2a', u'\\u4e1c\\u897f', u'\\u771f\\u5fc3', u'\\u5f88', u'\\u8d5e'"
   ]
  },
  {
   "cell_type": "code",
   "execution_count": 11,
   "metadata": {},
   "outputs": [
    {
     "data": {
      "text/plain": [
       "[(u'\\u8fd9\\u4e2a', u'r'),\n",
       " (u'\\u4e1c\\u897f', u'n'),\n",
       " (u'\\u771f\\u5fc3', u'd'),\n",
       " (u'\\u5f88', u'd'),\n",
       " (u'\\u8d5e', u'Vg')]"
      ]
     },
     "execution_count": 11,
     "metadata": {},
     "output_type": "execute_result"
    }
   ],
   "source": [
    "s.tags          # [(u'这个', u'r'), (u'东西', u'n'),\n",
    "                #  (u'真心', u'd'), (u'很', u'd'),\n",
    "                #  (u'赞', u'Vg')]"
   ]
  },
  {
   "cell_type": "code",
   "execution_count": 12,
   "metadata": {},
   "outputs": [
    {
     "data": {
      "text/plain": [
       "0.9767675999295893"
      ]
     },
     "execution_count": 12,
     "metadata": {},
     "output_type": "execute_result"
    }
   ],
   "source": [
    "s.sentiments    # 0.9769663402895832 positive的概率,情感系数"
   ]
  },
  {
   "cell_type": "code",
   "execution_count": null,
   "metadata": {},
   "outputs": [],
   "source": []
  }
 ],
 "metadata": {
  "kernelspec": {
   "display_name": "Python 2",
   "language": "python",
   "name": "python2"
  },
  "language_info": {
   "codemirror_mode": {
    "name": "ipython",
    "version": 2
   },
   "file_extension": ".py",
   "mimetype": "text/x-python",
   "name": "python",
   "nbconvert_exporter": "python",
   "pygments_lexer": "ipython2",
   "version": "2.7.15"
  }
 },
 "nbformat": 4,
 "nbformat_minor": 2
}
