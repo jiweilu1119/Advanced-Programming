{
 "cells": [
  {
   "cell_type": "code",
   "execution_count": 1,
   "metadata": {},
   "outputs": [],
   "source": [
    "import warnings"
   ]
  },
  {
   "cell_type": "code",
   "execution_count": 2,
   "metadata": {},
   "outputs": [
    {
     "name": "stderr",
     "output_type": "stream",
     "text": [
      "/anaconda2/lib/python2.7/site-packages/ipykernel_launcher.py:4: RuntimeWarning: month (13) is not between 1 and 12\n",
      "  after removing the cwd from sys.path.\n"
     ]
    }
   ],
   "source": [
    "def month_warning(m):\n",
    "    if not 1<= m <= 12:\n",
    "        msg = \"month (%d) is not between 1 and 12\" % m\n",
    "        warnings.warn(msg, RuntimeWarning)\n",
    "\n",
    "month_warning(13)\n"
   ]
  },
  {
   "cell_type": "code",
   "execution_count": 4,
   "metadata": {},
   "outputs": [],
   "source": [
    "#将 action 设置为 'ignore' 便可以忽略特定类型的警告：\n",
    "warnings.filterwarnings(action = 'ignore', category = RuntimeWarning)\n",
    "\n",
    "month_warning(13)"
   ]
  },
  {
   "cell_type": "markdown",
   "metadata": {},
   "source": [
    "# 文件读写"
   ]
  },
  {
   "cell_type": "code",
   "execution_count": 5,
   "metadata": {},
   "outputs": [
    {
     "name": "stdout",
     "output_type": "stream",
     "text": [
      "Writing test.txt\n"
     ]
    }
   ],
   "source": [
    "%%writefile test.txt\n",
    "this is a test file.\n",
    "hello world!\n",
    "python is good!\n",
    "today is a good day."
   ]
  },
  {
   "cell_type": "code",
   "execution_count": 7,
   "metadata": {},
   "outputs": [],
   "source": [
    "f = open('test.txt')\n",
    "f = file('test.txt')"
   ]
  },
  {
   "cell_type": "code",
   "execution_count": 8,
   "metadata": {},
   "outputs": [
    {
     "name": "stdout",
     "output_type": "stream",
     "text": [
      "this is a test file.\n",
      "hello world!\n",
      "python is good!\n",
      "today is a good day.\n"
     ]
    }
   ],
   "source": [
    "text = f.read()\n",
    "print text"
   ]
  },
  {
   "cell_type": "code",
   "execution_count": 11,
   "metadata": {},
   "outputs": [
    {
     "name": "stdout",
     "output_type": "stream",
     "text": [
      "['this is a test file.\\n', 'hello world!\\n', 'python is good!\\n', 'today is a good day.']\n"
     ]
    }
   ],
   "source": [
    "f = open('test.txt')\n",
    "lines = f.readlines()\n",
    "print lines"
   ]
  },
  {
   "cell_type": "code",
   "execution_count": 12,
   "metadata": {},
   "outputs": [],
   "source": [
    "f.close()"
   ]
  },
  {
   "cell_type": "code",
   "execution_count": 15,
   "metadata": {},
   "outputs": [
    {
     "name": "stdout",
     "output_type": "stream",
     "text": [
      "一 二 三 四 五 \n"
     ]
    }
   ],
   "source": [
    "root='/Users/jiweilu/Desktop/'\n",
    "f = open('/Users/jiweilu/Desktop/text.txt')\n",
    "for line in f:\n",
    "    print line\n",
    "f.close()"
   ]
  },
  {
   "cell_type": "code",
   "execution_count": 17,
   "metadata": {},
   "outputs": [
    {
     "name": "stdout",
     "output_type": "stream",
     "text": [
      "一 二 三 四 五 \n"
     ]
    }
   ],
   "source": [
    "print open('/Users/jiweilu/Desktop/text.txt').read()"
   ]
  },
  {
   "cell_type": "code",
   "execution_count": 19,
   "metadata": {},
   "outputs": [
    {
     "name": "stdout",
     "output_type": "stream",
     "text": [
      "another hello world!\n"
     ]
    }
   ],
   "source": [
    "f = open('/Users/jiweilu/Desktop/text.txt', 'w')\n",
    "f.write('another hello world!')\n",
    "f.close()\n",
    "print open('/Users/jiweilu/Desktop/text.txt').read()"
   ]
  },
  {
   "cell_type": "code",
   "execution_count": 21,
   "metadata": {},
   "outputs": [
    {
     "name": "stdout",
     "output_type": "stream",
     "text": [
      "another hello world!... and more... and more\n"
     ]
    }
   ],
   "source": [
    "#追加模式 a ，追加模式不会覆盖之前已经写入的内容，而是在之后继续写入：\n",
    "f = open('myfile.txt', 'a')\n",
    "f.write('... and more')\n",
    "f.close()\n",
    "print open('myfile.txt').read()"
   ]
  },
  {
   "cell_type": "code",
   "execution_count": 23,
   "metadata": {},
   "outputs": [
    {
     "name": "stdout",
     "output_type": "stream",
     "text": [
      "world!\n"
     ]
    }
   ],
   "source": [
    "f = open('myfile.txt', 'w+')\n",
    "f.write('hello world!')\n",
    "f.seek(6)\n",
    "print f.read()\n",
    "f.close()\n",
    "#这里 f.seek(6) 移动到文件的第6个字符处，然后 f.read() 读出剩下的内容。"
   ]
  },
  {
   "cell_type": "code",
   "execution_count": 24,
   "metadata": {},
   "outputs": [],
   "source": [
    "import os\n",
    "os.remove('myfile.txt')"
   ]
  },
  {
   "cell_type": "markdown",
   "metadata": {},
   "source": [
    "### 二进制文件"
   ]
  },
  {
   "cell_type": "code",
   "execution_count": 28,
   "metadata": {},
   "outputs": [
    {
     "name": "stdout",
     "output_type": "stream",
     "text": [
      "'c\\xe5)\\xcc\\x07UG\\xd2\\xc8\\xab\\x84\\xefo\\x0f\\xca\\x8b'\n"
     ]
    }
   ],
   "source": [
    "import os\n",
    "f = open('binary.bin', 'w')\n",
    "f.write(os.urandom(16))\n",
    "f.close()\n",
    "\n",
    "f = open('binary.bin', 'r')\n",
    "print repr(f.read())\n",
    "f.close()"
   ]
  },
  {
   "cell_type": "code",
   "execution_count": 30,
   "metadata": {},
   "outputs": [
    {
     "name": "stdout",
     "output_type": "stream",
     "text": [
      "'\\x05\\xdfA\\xd4\\xb3\\xe4\\xec\\xeb\\x8aV\\x93:[\\xe5\\x96\\xb4'\n"
     ]
    }
   ],
   "source": [
    "import os\n",
    "f = open('binary.bin', 'wb')\n",
    "f.write(os.urandom(16))\n",
    "f.close()\n",
    "\n",
    "f = open('binary.bin', 'rb')\n",
    "print repr(f.read())\n",
    "f.close()"
   ]
  },
  {
   "cell_type": "code",
   "execution_count": 31,
   "metadata": {},
   "outputs": [],
   "source": [
    "import os\n",
    "os.remove('binary.bin')"
   ]
  },
  {
   "cell_type": "code",
   "execution_count": 32,
   "metadata": {},
   "outputs": [
    {
     "name": "stdout",
     "output_type": "stream",
     "text": [
      "''\n"
     ]
    }
   ],
   "source": [
    "f = open('newfile.txt','w')\n",
    "f.write('hello world')\n",
    "g = open('newfile.txt', 'r')\n",
    "print repr(g.read())"
   ]
  },
  {
   "cell_type": "code",
   "execution_count": 33,
   "metadata": {},
   "outputs": [],
   "source": [
    "import os\n",
    "os.remove('newfile.txt')"
   ]
  },
  {
   "cell_type": "code",
   "execution_count": null,
   "metadata": {},
   "outputs": [],
   "source": []
  }
 ],
 "metadata": {
  "kernelspec": {
   "display_name": "Python 2",
   "language": "python",
   "name": "python2"
  },
  "language_info": {
   "codemirror_mode": {
    "name": "ipython",
    "version": 2
   },
   "file_extension": ".py",
   "mimetype": "text/x-python",
   "name": "python",
   "nbconvert_exporter": "python",
   "pygments_lexer": "ipython2",
   "version": "2.7.15"
  }
 },
 "nbformat": 4,
 "nbformat_minor": 2
}
