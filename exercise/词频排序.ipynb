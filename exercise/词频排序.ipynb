{
 "cells": [
  {
   "cell_type": "code",
   "execution_count": 29,
   "metadata": {},
   "outputs": [
    {
     "name": "stdout",
     "output_type": "stream",
     "text": [
      "频率最高的十个单词：\n",
      "('the', 21)\n",
      "('a', 19)\n",
      "('of', 10)\n",
      "('in', 8)\n",
      "('to', 7)\n",
      "('its', 6)\n",
      "('since', 6)\n",
      "('has', 6)\n",
      "('and', 6)\n",
      "('on', 5)\n",
      "--------------------\n",
      "频率最低的十个单词\n",
      "('latest', 1)\n",
      "('banks', 1)\n",
      "('goals', 1)\n",
      "('well', 1)\n",
      "('longer', 1)\n",
      "('shortly', 1)\n",
      "('suffers', 1)\n",
      "('recent', 1)\n",
      "('constrain', 1)\n",
      "('data', 1)\n"
     ]
    }
   ],
   "source": [
    "for i in range(1,6):\n",
    "    toot = '/Users/jiweilu/Desktop/corpara/{}.txt'.format(i)#遍历文件\n",
    "    txt=open(root,'r').read()  \n",
    "    for useless in \"~@#$%^&*()_-+=<>?/,.:;{}[]|\\'\":  \n",
    "           txt=txt.replace(useless,' ')  \n",
    "    txt=txt.lower()  #都转化为小写\n",
    "    \n",
    "\n",
    "wordlist = {}#建立词频序列\n",
    "words=txt.split()  #分离单词\n",
    "totalcount=0\n",
    "for word in words:  \n",
    "    wordlist[word]=wordlist.get(word,0)+1\n",
    "    totalcount = totalcount + 1\n",
    "items=list(wordlist.items())  \n",
    "items.sort(key=lambda x:x[1],reverse=True)  #lambda是一个隐函数，是固定写法，不要写成别的单词；\n",
    "#x表示列表中的一个元素，在这里，表示一个元组，x只是临时起的一个名字，你可以使用任意的名字；x[0]表示元组里的第一个元素，当然第二个元素就是x[1]；所以这句命令的意思就是按照列表中第二个元素排序                                                                   \n",
    "\n",
    "print(\"频率最高的十个单词：\")\n",
    "for i in range(10):  \n",
    "    word,count=items[i]  \n",
    "    print(items[i])\n",
    "items.reverse()#反序\n",
    "print(\"--------------------\")\n",
    "print(\"频率最低的十个单词\")\n",
    "for i in range(10):  \n",
    "    word,count=items[i]  \n",
    "    print(items[i])\n"
   ]
  },
  {
   "cell_type": "code",
   "execution_count": 9,
   "metadata": {},
   "outputs": [
    {
     "name": "stdout",
     "output_type": "stream",
     "text": [
      "thwas was string example....wow!!! thwas was really string\n",
      "thwas was string example....wow!!! thwas is really string\n"
     ]
    }
   ],
   "source": [
    "str = \"this is string example....wow!!! this is really string\";\n",
    "print str.replace(\"is\", \"was\");\n",
    "print str.replace(\"is\", \"was\", 3);"
   ]
  },
  {
   "cell_type": "code",
   "execution_count": null,
   "metadata": {},
   "outputs": [],
   "source": []
  }
 ],
 "metadata": {
  "kernelspec": {
   "display_name": "Python 2",
   "language": "python",
   "name": "python2"
  },
  "language_info": {
   "codemirror_mode": {
    "name": "ipython",
    "version": 2
   },
   "file_extension": ".py",
   "mimetype": "text/x-python",
   "name": "python",
   "nbconvert_exporter": "python",
   "pygments_lexer": "ipython2",
   "version": "2.7.15"
  }
 },
 "nbformat": 4,
 "nbformat_minor": 2
}
