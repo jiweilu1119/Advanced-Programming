{
 "cells": [
  {
   "cell_type": "code",
   "execution_count": 1,
   "metadata": {},
   "outputs": [],
   "source": [
    "import bs4\n",
    "import requests, requests.utils, pickle\n",
    "import requests.packages.urllib3\n",
    "requests.packages.urllib3.disable_warnings()\n",
    "import os\n",
    "import time\n",
    "import json\n",
    "import random\n",
    "\n",
    "\n",
    "import argparse\n",
    "#from selenium import webdriver"
   ]
  },
  {
   "cell_type": "code",
   "execution_count": 2,
   "metadata": {},
   "outputs": [],
   "source": [
    "import sys\n",
    "reload(sys)# 初始化后删除了 sys.setdefaultencoding 方法，我们需要重新载入\n",
    "sys.setdefaultencoding('utf-8') "
   ]
  },
  {
   "cell_type": "code",
   "execution_count": 11,
   "metadata": {},
   "outputs": [
    {
     "ename": "SyntaxError",
     "evalue": "'return' outside function (<ipython-input-11-4d112968db72>, line 15)",
     "output_type": "error",
     "traceback": [
      "\u001b[0;36m  File \u001b[0;32m\"<ipython-input-11-4d112968db72>\"\u001b[0;36m, line \u001b[0;32m15\u001b[0m\n\u001b[0;31m    return txt.strip(' \\t\\r\\n') if txt else ''\u001b[0m\n\u001b[0;31mSyntaxError\u001b[0m\u001b[0;31m:\u001b[0m 'return' outside function\n"
     ]
    }
   ],
   "source": [
    "# get function name\n",
    "FuncName = lambda n=0: sys._getframe(n + 1).f_code.co_name\n",
    "def tags_val(tag, key='', index=0):\n",
    "    '''\n",
    "    return html tag list attribute @key @index\n",
    "    if @key is empty, return tag content\n",
    "    '''\n",
    "    if len(tag) == 0 or len(tag) <= index: #如果标签长度小于等于0\n",
    "        return ''\n",
    "    elif key:\n",
    "        txt = tag[index].get(key)\n",
    "        return txt.strip(' \\t\\r\\n') if txt else ''#strip函数删除开头或是结尾的字符\n",
    "    else:\n",
    "        txt = tag[index].text\n",
    "return txt.strip(' \\t\\r\\n') if txt else ''\n",
    "#若密钥为空白，返回标签内容\n",
    "def tag_val(tag, key=''):\n",
    "    '''\n",
    "    return html tag attribute @key\n",
    "    if @key is empty, return tag content\n",
    "    '''\n",
    "    if tag is None: \n",
    "        return ''\n",
    "    elif key:\n",
    "        txt = tag.get(key)\n",
    "        return txt.strip(' \\t\\r\\n') if txt else ''\n",
    "    else:\n",
    "        txt = tag.text\n",
    "return txt.strip(' \\t\\r\\n') if txt else ''\n"
   ]
  },
  {
   "cell_type": "code",
   "execution_count": 11,
   "metadata": {},
   "outputs": [
    {
     "ename": "SyntaxError",
     "evalue": "'return' outside function (<ipython-input-11-4d112968db72>, line 15)",
     "output_type": "error",
     "traceback": [
      "\u001b[0;36m  File \u001b[0;32m\"<ipython-input-11-4d112968db72>\"\u001b[0;36m, line \u001b[0;32m15\u001b[0m\n\u001b[0;31m    return txt.strip(' \\t\\r\\n') if txt else ''\u001b[0m\n\u001b[0;31mSyntaxError\u001b[0m\u001b[0;31m:\u001b[0m 'return' outside function\n"
     ]
    }
   ],
   "source": [
    "# get function name\n",
    "FuncName = lambda n=0: sys._getframe(n + 1).f_code.co_name\n",
    "def tags_val(tag, key='', index=0):\n",
    "    '''\n",
    "    return html tag list attribute @key @index\n",
    "    if @key is empty, return tag content\n",
    "    '''\n",
    "    if len(tag) == 0 or len(tag) <= index: \n",
    "        return ''\n",
    "    elif key:\n",
    "        txt = tag[index].get(key)\n",
    "        return txt.strip(' \\t\\r\\n') if txt else ''#strip函数删除开头或是结尾的字符\n",
    "    else:\n",
    "        txt = tag[index].text\n",
    "return txt.strip(' \\t\\r\\n') if txt else ''\n",
    "#若密钥为空白，返回标签内容\n",
    "def tag_val(tag, key=''):\n",
    "    '''\n",
    "    return html tag attribute @key\n",
    "    if @key is empty, return tag content\n",
    "    '''\n",
    "    if tag is None: \n",
    "        return ''\n",
    "    elif key:\n",
    "        txt = tag.get(key)\n",
    "        return txt.strip(' \\t\\r\\n') if txt else ''\n",
    "    else:\n",
    "        txt = tag.text\n",
    "return txt.strip(' \\t\\r\\n') if txt else ''\n"
   ]
  },
  {
   "cell_type": "code",
   "execution_count": 11,
   "metadata": {},
   "outputs": [
    {
     "ename": "SyntaxError",
     "evalue": "'return' outside function (<ipython-input-11-4d112968db72>, line 15)",
     "output_type": "error",
     "traceback": [
      "\u001b[0;36m  File \u001b[0;32m\"<ipython-input-11-4d112968db72>\"\u001b[0;36m, line \u001b[0;32m15\u001b[0m\n\u001b[0;31m    return txt.strip(' \\t\\r\\n') if txt else ''\u001b[0m\n\u001b[0;31mSyntaxError\u001b[0m\u001b[0;31m:\u001b[0m 'return' outside function\n"
     ]
    }
   ],
   "source": [
    "# get function name\n",
    "FuncName = lambda n=0: sys._getframe(n + 1).f_code.co_name\n",
    "def tags_val(tag, key='', index=0):\n",
    "    '''\n",
    "    return html tag list attribute @key @index\n",
    "    if @key is empty, return tag content\n",
    "    '''\n",
    "    if len(tag) == 0 or len(tag) <= index: \n",
    "        return ''\n",
    "    elif key:\n",
    "        txt = tag[index].get(key)\n",
    "        return txt.strip(' \\t\\r\\n') if txt else ''#strip函数删除开头或是结尾的字符\n",
    "    else:\n",
    "        txt = tag[index].text\n",
    "return txt.strip(' \\t\\r\\n') if txt else ''\n",
    "#若密钥为空白，返回标签内容\n",
    "def tag_val(tag, key=''):\n",
    "    '''\n",
    "    return html tag attribute @key\n",
    "    if @key is empty, return tag content\n",
    "    '''\n",
    "    if tag is None: \n",
    "        return ''\n",
    "    elif key:\n",
    "        txt = tag.get(key)\n",
    "        return txt.strip(' \\t\\r\\n') if txt else ''\n",
    "    else:\n",
    "        txt = tag.text\n",
    "return txt.strip(' \\t\\r\\n') if txt else ''\n"
   ]
  }
 ],
 "metadata": {
  "kernelspec": {
   "display_name": "Python 2",
   "language": "python",
   "name": "python2"
  },
  "language_info": {
   "codemirror_mode": {
    "name": "ipython",
    "version": 2
   },
   "file_extension": ".py",
   "mimetype": "text/x-python",
   "name": "python",
   "nbconvert_exporter": "python",
   "pygments_lexer": "ipython2",
   "version": "2.7.15"
  }
 },
 "nbformat": 4,
 "nbformat_minor": 2
}
