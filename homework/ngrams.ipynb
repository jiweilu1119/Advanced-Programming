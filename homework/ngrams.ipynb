{
 "cells": [
  {
   "cell_type": "code",
   "execution_count": 43,
   "metadata": {},
   "outputs": [],
   "source": [
    "from nltk.util import ngrams\n",
    "from nltk import word_tokenize"
   ]
  },
  {
   "cell_type": "code",
   "execution_count": 44,
   "metadata": {},
   "outputs": [
    {
     "name": "stdout",
     "output_type": "stream",
     "text": [
      "('add', 'domain')\n",
      "('domain', 'with')\n",
      "('with', 'authentication')\n",
      "('authentication', 'for')\n",
      "('for', 'conference')\n",
      "('conference', 'focus')\n",
      "('focus', 'user')\n"
     ]
    }
   ],
   "source": [
    "from nltk.util import ngrams\n",
    "a = \"add domain with authentication for conference focus user\".split(' ')\n",
    "b = ngrams(a,2)#bigram\n",
    "for i in b:\n",
    "    print i"
   ]
  },
  {
   "cell_type": "code",
   "execution_count": 46,
   "metadata": {},
   "outputs": [
    {
     "name": "stdout",
     "output_type": "stream",
     "text": [
      "('add',)\n",
      "('domain',)\n",
      "('with',)\n",
      "('authentication',)\n",
      "('for',)\n",
      "('conference',)\n",
      "('focus',)\n",
      "('user',)\n"
     ]
    }
   ],
   "source": [
    "b = ngrams(a,1)\n",
    "for j in b:\n",
    "    print (j)"
   ]
  },
  {
   "cell_type": "code",
   "execution_count": 48,
   "metadata": {},
   "outputs": [],
   "source": [
    "a = \"add domain with authentication for conference focus user\"\n",
    "alst=a.split(' ')"
   ]
  },
  {
   "cell_type": "code",
   "execution_count": 49,
   "metadata": {},
   "outputs": [
    {
     "data": {
      "text/plain": [
       "['add',\n",
       " 'domain',\n",
       " 'with',\n",
       " 'authentication',\n",
       " 'for',\n",
       " 'conference',\n",
       " 'focus',\n",
       " 'user']"
      ]
     },
     "execution_count": 49,
     "metadata": {},
     "output_type": "execute_result"
    }
   ],
   "source": [
    "alst"
   ]
  },
  {
   "cell_type": "code",
   "execution_count": 50,
   "metadata": {},
   "outputs": [],
   "source": [
    "wlst=word_tokenize(a)"
   ]
  },
  {
   "cell_type": "code",
   "execution_count": 51,
   "metadata": {},
   "outputs": [
    {
     "data": {
      "text/plain": [
       "['add',\n",
       " 'domain',\n",
       " 'with',\n",
       " 'authentication',\n",
       " 'for',\n",
       " 'conference',\n",
       " 'focus',\n",
       " 'user']"
      ]
     },
     "execution_count": 51,
     "metadata": {},
     "output_type": "execute_result"
    }
   ],
   "source": [
    "wlst"
   ]
  },
  {
   "cell_type": "code",
   "execution_count": 53,
   "metadata": {},
   "outputs": [
    {
     "name": "stdout",
     "output_type": "stream",
     "text": [
      "('a', 'd', 'd')\n",
      "('d', 'd', ' ')\n",
      "('d', ' ', 'd')\n",
      "(' ', 'd', 'o')\n",
      "('d', 'o', 'm')\n",
      "('o', 'm', 'a')\n",
      "('m', 'a', 'i')\n",
      "('a', 'i', 'n')\n",
      "('i', 'n', ' ')\n",
      "('n', ' ', 'w')\n",
      "(' ', 'w', 'i')\n",
      "('w', 'i', 't')\n",
      "('i', 't', 'h')\n",
      "('t', 'h', ' ')\n",
      "('h', ' ', 'a')\n",
      "(' ', 'a', 'u')\n",
      "('a', 'u', 't')\n",
      "('u', 't', 'h')\n",
      "('t', 'h', 'e')\n",
      "('h', 'e', 'n')\n",
      "('e', 'n', 't')\n",
      "('n', 't', 'i')\n",
      "('t', 'i', 'c')\n",
      "('i', 'c', 'a')\n",
      "('c', 'a', 't')\n",
      "('a', 't', 'i')\n",
      "('t', 'i', 'o')\n",
      "('i', 'o', 'n')\n",
      "('o', 'n', ' ')\n",
      "('n', ' ', 'f')\n",
      "(' ', 'f', 'o')\n",
      "('f', 'o', 'r')\n",
      "('o', 'r', ' ')\n",
      "('r', ' ', 'c')\n",
      "(' ', 'c', 'o')\n",
      "('c', 'o', 'n')\n",
      "('o', 'n', 'f')\n",
      "('n', 'f', 'e')\n",
      "('f', 'e', 'r')\n",
      "('e', 'r', 'e')\n",
      "('r', 'e', 'n')\n",
      "('e', 'n', 'c')\n",
      "('n', 'c', 'e')\n",
      "('c', 'e', ' ')\n",
      "('e', ' ', 'f')\n",
      "(' ', 'f', 'o')\n",
      "('f', 'o', 'c')\n",
      "('o', 'c', 'u')\n",
      "('c', 'u', 's')\n",
      "('u', 's', ' ')\n",
      "('s', ' ', 'u')\n",
      "(' ', 'u', 's')\n",
      "('u', 's', 'e')\n",
      "('s', 'e', 'r')\n"
     ]
    }
   ],
   "source": [
    "c=ngrams(a,3)#trigrams\n",
    "for i in c:\n",
    "    print (i)"
   ]
  },
  {
   "cell_type": "code",
   "execution_count": 54,
   "metadata": {},
   "outputs": [
    {
     "name": "stdout",
     "output_type": "stream",
     "text": [
      "('1', '2')\n",
      "('2', '3')\n",
      "('3', '4')\n",
      "('4', '5')\n"
     ]
    }
   ],
   "source": [
    "a = ['1','2','3','4','5']\n",
    "b = ngrams(a,2)\n",
    "for i in b:\n",
    "     print i\n"
   ]
  },
  {
   "cell_type": "code",
   "execution_count": null,
   "metadata": {},
   "outputs": [],
   "source": []
  },
  {
   "cell_type": "code",
   "execution_count": null,
   "metadata": {},
   "outputs": [],
   "source": []
  }
 ],
 "metadata": {
  "kernelspec": {
   "display_name": "Python 2",
   "language": "python",
   "name": "python2"
  },
  "language_info": {
   "codemirror_mode": {
    "name": "ipython",
    "version": 2
   },
   "file_extension": ".py",
   "mimetype": "text/x-python",
   "name": "python",
   "nbconvert_exporter": "python",
   "pygments_lexer": "ipython2",
   "version": "2.7.15"
  }
 },
 "nbformat": 4,
 "nbformat_minor": 2
}
